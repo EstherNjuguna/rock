{
 "cells": [
  {
   "cell_type": "code",
   "execution_count": 1,
   "metadata": {},
   "outputs": [
    {
     "name": "stdout",
     "output_type": "stream",
     "text": [
      "You chose 1 and computer chose 1\n",
      "Draw\n"
     ]
    }
   ],
   "source": [
    "import random\n",
    "user_input = int(input(\"Please choose: 0 - Rock, 1 - Paper, 2- Scissors\"))\n",
    "computer = random.randint(0,2)\n",
    "print(f\"You chose {user_input} and computer chose {computer}\")\n",
    "if user_input >= 3 or user_input < 0:\n",
    "    print(\"Invalid/ Enter a valid number\")\n",
    "else:\n",
    "    \n",
    "    if user_input == computer:\n",
    "        print(\"Draw\")\n",
    "    elif user_input == 0 and computer == 2:\n",
    "        print(\"You win\")\n",
    "    elif computer == 0 and user_input == 2:\n",
    "        print(\"You lose\")\n",
    "    elif user_input > computer:\n",
    "        print(\"You win\")\n",
    "    elif user_input < computer:\n",
    "        print(\"You lose\")"
   ]
  }
 ],
 "metadata": {
  "kernelspec": {
   "display_name": "Python 3",
   "language": "python",
   "name": "python3"
  },
  "language_info": {
   "codemirror_mode": {
    "name": "ipython",
    "version": 3
   },
   "file_extension": ".py",
   "mimetype": "text/x-python",
   "name": "python",
   "nbconvert_exporter": "python",
   "pygments_lexer": "ipython3",
   "version": "3.8.10"
  },
  "orig_nbformat": 4
 },
 "nbformat": 4,
 "nbformat_minor": 2
}
